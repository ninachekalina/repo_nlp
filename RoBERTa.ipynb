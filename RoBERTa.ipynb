{
 "cells": [
  {
   "cell_type": "code",
   "execution_count": 27,
   "id": "568746cd-b523-4327-93eb-29d75b8f456f",
   "metadata": {
    "tags": []
   },
   "outputs": [],
   "source": [
    "import pandas as pd\n",
    "from sklearn.model_selection import train_test_split\n",
    "from transformers import AutoTokenizer, AutoModelForQuestionAnswering, Trainer, TrainingArguments\n",
    "import torch\n",
    "from torch.utils.data import Dataset\n",
    "\n",
    "data = {\n",
    "    \"context\": [\n",
    "               # \"Helicobacter pylori infection is strongly associated with gastric cancer and peptic ulcer disease.\",\n",
    "                #\"The standard treatment for H. pylori involves a combination of antibiotics such as amoxicillin and clarithromycin.\",\n",
    "                #\"H. pylori is a Gram-negative, microaerophilic bacterium found in the stomach.\",\n",
    "                #\"Over half of the world's population harbors H. pylori in their upper gastrointestinal tract.\",\n",
    "               #\"Infection with H. pylori is usually asymptomatic, but it can cause gastric problems and is a risk factor for stomach cancer.\",\n",
    "               #\"The urease test is a diagnostic tool for detecting H. pylori infection based on the bacterium's ability to hydrolyze urea.\",\n",
    "               # \"H. pylori's ability to produce urease is a key factor in its survival in the acidic environment of the stomach.\",\n",
    "                \"Triple therapy for H. pylori infection includes a proton pump inhibitor and two antibiotics for 14 days.\",\n",
    "               # \"The breath test for H. pylori involves drinking a liquid containing urea, which the bacteria can break down if present.\",\n",
    "                \"H. pylori was first identified in 1982 by Barry Marshall and Robin Warren, who later won the Nobel Prize for this discovery.\"],\n",
    "    \"question\": [ \n",
    "                #\"What diseases are associated with Helicobacter pylori?\",\n",
    "                # \"What antibiotics are used to treat H. pylori?\",\n",
    "               #\"What type of bacterium is H. pylori?\",\n",
    "               # \"How common is H. pylori infection worldwide?\",\n",
    "               # \"What are the possible consequences of an H. pylori infection?\",\n",
    "                # \"What does the urease test diagnose?\",\n",
    "                 #\"Why is urease important for H. pylori?\",\n",
    "                 \"What does triple therapy for H. pylori involve?\",\n",
    "               # \"How does the breath test for H. pylori work?\",\n",
    "                 \"Who discovered H. pylori and what was the recognition for this work?\"],\n",
    "    \"answer\": [#\"Gastric cancer and peptic ulcer disease\",\n",
    "             # \"Amoxicillin and clarithromycin\",\n",
    "             #  \"A Gram-negative, microaerophilic bacterium\",\n",
    "             #\"Over half of the world's population\",\n",
    "              #\"Gastric problems and stomach cancer\",\n",
    "              # \"H. pylori infection\",\n",
    "               #\"Helps survival in acidic stomach conditions\",\n",
    "               \"A proton pump inhibitor and two antibiotics for 14 days\",\n",
    "               #\"Drinking a liquid with urea, which H. pylori breaks down if present\",\n",
    "               \"Barry Marshall and Robin Warren, Nobel Prize\"]\n",
    "}\n",
    "\n",
    "df = pd.DataFrame(data)\n",
    "train_df, val_df = train_test_split(df, test_size=0.2, random_state=42, shuffle=True)\n",
    "\n",
    "class QADataset(Dataset):\n",
    "    def __init__(self, dataframe, tokenizer):\n",
    "        self.len = len(dataframe)\n",
    "        self.data = dataframe\n",
    "        self.tokenizer = tokenizer\n",
    "\n",
    "    def __getitem__(self, index):\n",
    "        question = self.data.iloc[index]['question']\n",
    "        context = self.data.iloc[index]['context']\n",
    "        answer_text = self.data.iloc[index]['answer']\n",
    "\n",
    "        # Encode the inputs\n",
    "        inputs = self.tokenizer.encode_plus(question, context, add_special_tokens=True, return_tensors=\"pt\", max_length=512, truncation=True, padding=\"max_length\")\n",
    "        input_ids = inputs[\"input_ids\"].squeeze()\n",
    "\n",
    "        # Find the position of the answer in the context\n",
    "        answer_start_index = context.find(answer_text)\n",
    "        answer_end_index = answer_start_index + len(answer_text)\n",
    "\n",
    "        # Locate the positions of the start and end of the answer in the tokens\n",
    "        answer_start_token = self.tokenizer.encode(context[:answer_start_index], add_special_tokens=False, return_tensors=\"pt\").size(1)\n",
    "        answer_end_token = answer_start_token + self.tokenizer.encode(answer_text, add_special_tokens=False, return_tensors=\"pt\").size(1) - 1\n",
    "\n",
    "        return {\n",
    "            \"input_ids\": input_ids,\n",
    "            \"attention_mask\": inputs[\"attention_mask\"].squeeze(),\n",
    "            \"start_positions\": torch.tensor(answer_start_token),\n",
    "            \"end_positions\": torch.tensor(answer_end_token)\n",
    "        }\n",
    "\n",
    "    def __len__(self):\n",
    "        return self.len\n"
   ]
  },
  {
   "cell_type": "code",
   "execution_count": 28,
   "id": "4f903f58-0cd8-404c-a4eb-dc1aea0fe3e2",
   "metadata": {
    "tags": []
   },
   "outputs": [
    {
     "data": {
      "text/html": [
       "<div>\n",
       "<style scoped>\n",
       "    .dataframe tbody tr th:only-of-type {\n",
       "        vertical-align: middle;\n",
       "    }\n",
       "\n",
       "    .dataframe tbody tr th {\n",
       "        vertical-align: top;\n",
       "    }\n",
       "\n",
       "    .dataframe thead th {\n",
       "        text-align: right;\n",
       "    }\n",
       "</style>\n",
       "<table border=\"1\" class=\"dataframe\">\n",
       "  <thead>\n",
       "    <tr style=\"text-align: right;\">\n",
       "      <th></th>\n",
       "      <th>context</th>\n",
       "      <th>question</th>\n",
       "      <th>answer</th>\n",
       "    </tr>\n",
       "  </thead>\n",
       "  <tbody>\n",
       "    <tr>\n",
       "      <th>1</th>\n",
       "      <td>H. pylori was first identified in 1982 by Barr...</td>\n",
       "      <td>Who discovered H. pylori and what was the reco...</td>\n",
       "      <td>Barry Marshall and Robin Warren, Nobel Prize</td>\n",
       "    </tr>\n",
       "  </tbody>\n",
       "</table>\n",
       "</div>"
      ],
      "text/plain": [
       "                                             context  \\\n",
       "1  H. pylori was first identified in 1982 by Barr...   \n",
       "\n",
       "                                            question  \\\n",
       "1  Who discovered H. pylori and what was the reco...   \n",
       "\n",
       "                                         answer  \n",
       "1  Barry Marshall and Robin Warren, Nobel Prize  "
      ]
     },
     "execution_count": 28,
     "metadata": {},
     "output_type": "execute_result"
    }
   ],
   "source": [
    "val_df"
   ]
  },
  {
   "cell_type": "code",
   "execution_count": 29,
   "id": "bfd83698-da00-487e-94ad-fa5a59a58bff",
   "metadata": {
    "tags": []
   },
   "outputs": [],
   "source": [
    "tokenizer = AutoTokenizer.from_pretrained('deepset/roberta-base-squad2')\n",
    "model = AutoModelForQuestionAnswering.from_pretrained('deepset/roberta-base-squad2')\n",
    "\n",
    "train_dataset = QADataset(train_df, tokenizer)\n",
    "val_dataset = QADataset(val_df, tokenizer)\n"
   ]
  },
  {
   "cell_type": "code",
   "execution_count": 30,
   "id": "d0825a00-62df-4f66-abb4-9a535b836dec",
   "metadata": {
    "tags": []
   },
   "outputs": [
    {
     "name": "stderr",
     "output_type": "stream",
     "text": [
      "C:\\Users\\Nina\\anaconda3\\Lib\\site-packages\\accelerate\\accelerator.py:436: FutureWarning: Passing the following arguments to `Accelerator` is deprecated and will be removed in version 1.0 of Accelerate: dict_keys(['dispatch_batches']). Please pass an `accelerate.DataLoaderConfiguration` instead: \n",
      "dataloader_config = DataLoaderConfiguration(dispatch_batches=None)\n",
      "  warnings.warn(\n"
     ]
    },
    {
     "data": {
      "text/html": [
       "\n",
       "    <div>\n",
       "      \n",
       "      <progress value='3' max='3' style='width:300px; height:20px; vertical-align: middle;'></progress>\n",
       "      [3/3 00:17, Epoch 3/3]\n",
       "    </div>\n",
       "    <table border=\"1\" class=\"dataframe\">\n",
       "  <thead>\n",
       " <tr style=\"text-align: left;\">\n",
       "      <th>Step</th>\n",
       "      <th>Training Loss</th>\n",
       "      <th>Validation Loss</th>\n",
       "    </tr>\n",
       "  </thead>\n",
       "  <tbody>\n",
       "  </tbody>\n",
       "</table><p>"
      ],
      "text/plain": [
       "<IPython.core.display.HTML object>"
      ]
     },
     "metadata": {},
     "output_type": "display_data"
    },
    {
     "data": {
      "text/html": [
       "\n",
       "    <div>\n",
       "      \n",
       "      <progress value='1' max='1' style='width:300px; height:20px; vertical-align: middle;'></progress>\n",
       "      [1/1 : < :]\n",
       "    </div>\n",
       "    "
      ],
      "text/plain": [
       "<IPython.core.display.HTML object>"
      ]
     },
     "metadata": {},
     "output_type": "display_data"
    },
    {
     "name": "stdout",
     "output_type": "stream",
     "text": [
      "{'eval_loss': 5.495598316192627, 'eval_start_accuracy': 0.0, 'eval_end_accuracy': 0.0, 'eval_runtime': 3.4247, 'eval_samples_per_second': 0.292, 'eval_steps_per_second': 0.292, 'epoch': 3.0}\n"
     ]
    }
   ],
   "source": [
    "from sklearn.metrics import accuracy_score\n",
    "\n",
    "def compute_metrics(p):\n",
    "    # Извлечение истинных значений\n",
    "    true_starts, true_ends = p.label_ids\n",
    "\n",
    "    # Извлечение предсказаний\n",
    "    predictions = p.predictions\n",
    "    pred_starts = predictions[0].argmax(-1)\n",
    "    pred_ends = predictions[1].argmax(-1)\n",
    "\n",
    "    # Вычисление точности для начальной и конечной позиций\n",
    "    start_accuracy = accuracy_score(true_starts, pred_starts)\n",
    "    end_accuracy = accuracy_score(true_ends, pred_ends)\n",
    "\n",
    "    return {\n",
    "        'start_accuracy': start_accuracy,\n",
    "        'end_accuracy': end_accuracy\n",
    "    }\n",
    "\n",
    "\n",
    "training_args = TrainingArguments(\n",
    "    output_dir='./result',\n",
    "    num_train_epochs=3,\n",
    "    per_device_train_batch_size=2,\n",
    "    per_device_eval_batch_size=2,\n",
    "    warmup_steps=500,\n",
    "    weight_decay=0.01,\n",
    "    logging_dir='./logs',\n",
    "    logging_steps=10,\n",
    "    evaluation_strategy=\"steps\",\n",
    "    eval_steps=50,\n",
    "    save_steps=500,\n",
    "    save_total_limit=2\n",
    ")\n",
    "\n",
    "trainer = Trainer(\n",
    "    model=model,\n",
    "    args=training_args,\n",
    "    train_dataset=train_dataset,\n",
    "    eval_dataset=val_dataset,\n",
    "    compute_metrics=compute_metrics\n",
    ")\n",
    "\n",
    "trainer.train()\n",
    "\n",
    "eval_results = trainer.evaluate()\n",
    "print(eval_results)\n"
   ]
  },
  {
   "cell_type": "code",
   "execution_count": 31,
   "id": "58d310f2-aeb5-4771-9d2f-af9aa163d5a3",
   "metadata": {
    "tags": []
   },
   "outputs": [
    {
     "name": "stdout",
     "output_type": "stream",
     "text": [
      "Question: Who discovered H. pylori and what was the recognition for this work?\n",
      "Context: H. pylori was first identified in 1982 by Barry Marshall and Robin Warren, who later won the Nobel Prize for this discovery.\n",
      "Answer: Nobel Prize\n",
      "Score: 0.2717415988445282\n",
      "Start position: 93\n",
      "End position: 104\n"
     ]
    }
   ],
   "source": [
    "from transformers import pipeline\n",
    "\n",
    "# Создаем пайплайн для ответов на вопросы с использованием модели и токенизатора\n",
    "qa_pipeline = pipeline(\n",
    "    \"question-answering\",\n",
    "    model=model,\n",
    "    tokenizer=tokenizer\n",
    ")\n",
    "\n",
    "# Пример вопроса и контекста из валидационного набора данных\n",
    "#example = val_df.iloc[1]\n",
    "for idx, example in val_df.iterrows():\n",
    "    context = example['context']\n",
    "    question = example['question']\n",
    "    \n",
    "\n",
    "# Выполнение предсказания\n",
    "    result = qa_pipeline({\n",
    "    'question': question,\n",
    "    'context': context\n",
    "    })\n",
    "\n",
    "    print(f\"Question: {question}\")\n",
    "    print(f\"Context: {context}\")\n",
    "    print(f\"Answer: {result['answer']}\")\n",
    "    print(f\"Score: {result['score']}\")\n",
    "    print(f\"Start position: {result['start']}\")\n",
    "    print(f\"End position: {result['end']}\")\n"
   ]
  },
  {
   "cell_type": "code",
   "execution_count": null,
   "id": "991c1810-bab7-42a0-9de1-bc1430b1cc31",
   "metadata": {},
   "outputs": [],
   "source": []
  }
 ],
 "metadata": {
  "kernelspec": {
   "display_name": "Python 3 (ipykernel)",
   "language": "python",
   "name": "python3"
  },
  "language_info": {
   "codemirror_mode": {
    "name": "ipython",
    "version": 3
   },
   "file_extension": ".py",
   "mimetype": "text/x-python",
   "name": "python",
   "nbconvert_exporter": "python",
   "pygments_lexer": "ipython3",
   "version": "3.11.5"
  }
 },
 "nbformat": 4,
 "nbformat_minor": 5
}
