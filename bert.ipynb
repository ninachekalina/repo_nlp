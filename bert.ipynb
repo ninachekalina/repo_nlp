{
 "cells": [
  {
   "cell_type": "code",
   "execution_count": 1,
   "id": "07da1cc5-7dc4-4dbe-8498-2a5d2f67acdf",
   "metadata": {
    "tags": []
   },
   "outputs": [
    {
     "name": "stdout",
     "output_type": "stream",
     "text": [
      "Requirement already satisfied: transformers[torch] in c:\\users\\nina\\anaconda3\\lib\\site-packages (4.32.1)Note: you may need to restart the kernel to use updated packages.\n",
      "\n",
      "Requirement already satisfied: filelock in c:\\users\\nina\\anaconda3\\lib\\site-packages (from transformers[torch]) (3.9.0)\n",
      "Requirement already satisfied: huggingface-hub<1.0,>=0.15.1 in c:\\users\\nina\\anaconda3\\lib\\site-packages (from transformers[torch]) (0.15.1)\n",
      "Requirement already satisfied: numpy>=1.17 in c:\\users\\nina\\anaconda3\\lib\\site-packages (from transformers[torch]) (1.24.3)\n",
      "Requirement already satisfied: packaging>=20.0 in c:\\users\\nina\\anaconda3\\lib\\site-packages (from transformers[torch]) (23.1)\n",
      "Requirement already satisfied: pyyaml>=5.1 in c:\\users\\nina\\anaconda3\\lib\\site-packages (from transformers[torch]) (6.0)\n",
      "Requirement already satisfied: regex!=2019.12.17 in c:\\users\\nina\\anaconda3\\lib\\site-packages (from transformers[torch]) (2022.7.9)\n",
      "Requirement already satisfied: requests in c:\\users\\nina\\anaconda3\\lib\\site-packages (from transformers[torch]) (2.31.0)\n",
      "Requirement already satisfied: tokenizers!=0.11.3,<0.14,>=0.11.1 in c:\\users\\nina\\anaconda3\\lib\\site-packages (from transformers[torch]) (0.13.2)\n",
      "Requirement already satisfied: safetensors>=0.3.1 in c:\\users\\nina\\anaconda3\\lib\\site-packages (from transformers[torch]) (0.3.2)\n",
      "Requirement already satisfied: tqdm>=4.27 in c:\\users\\nina\\anaconda3\\lib\\site-packages (from transformers[torch]) (4.65.0)\n",
      "Requirement already satisfied: torch!=1.12.0,>=1.9 in c:\\users\\nina\\anaconda3\\lib\\site-packages (from transformers[torch]) (2.1.2)\n",
      "Collecting accelerate>=0.20.3 (from transformers[torch])\n",
      "  Obtaining dependency information for accelerate>=0.20.3 from https://files.pythonhosted.org/packages/53/fe/0251ccd9e0015c705e772da0fb2c96cdafd87b1d7dd45dc13dca7ced0eb7/accelerate-0.29.3-py3-none-any.whl.metadata\n",
      "  Downloading accelerate-0.29.3-py3-none-any.whl.metadata (18 kB)\n",
      "Requirement already satisfied: psutil in c:\\users\\nina\\anaconda3\\lib\\site-packages (from accelerate>=0.20.3->transformers[torch]) (5.9.0)\n",
      "Requirement already satisfied: fsspec in c:\\users\\nina\\anaconda3\\lib\\site-packages (from huggingface-hub<1.0,>=0.15.1->transformers[torch]) (2023.4.0)\n",
      "Requirement already satisfied: typing-extensions>=3.7.4.3 in c:\\users\\nina\\anaconda3\\lib\\site-packages (from huggingface-hub<1.0,>=0.15.1->transformers[torch]) (4.7.1)\n",
      "Requirement already satisfied: sympy in c:\\users\\nina\\anaconda3\\lib\\site-packages (from torch!=1.12.0,>=1.9->transformers[torch]) (1.11.1)\n",
      "Requirement already satisfied: networkx in c:\\users\\nina\\anaconda3\\lib\\site-packages (from torch!=1.12.0,>=1.9->transformers[torch]) (3.1)\n",
      "Requirement already satisfied: jinja2 in c:\\users\\nina\\anaconda3\\lib\\site-packages (from torch!=1.12.0,>=1.9->transformers[torch]) (3.1.2)\n",
      "Requirement already satisfied: colorama in c:\\users\\nina\\anaconda3\\lib\\site-packages (from tqdm>=4.27->transformers[torch]) (0.4.6)\n",
      "Requirement already satisfied: charset-normalizer<4,>=2 in c:\\users\\nina\\anaconda3\\lib\\site-packages (from requests->transformers[torch]) (2.0.4)\n",
      "Requirement already satisfied: idna<4,>=2.5 in c:\\users\\nina\\anaconda3\\lib\\site-packages (from requests->transformers[torch]) (3.4)\n",
      "Requirement already satisfied: urllib3<3,>=1.21.1 in c:\\users\\nina\\anaconda3\\lib\\site-packages (from requests->transformers[torch]) (1.26.16)\n",
      "Requirement already satisfied: certifi>=2017.4.17 in c:\\users\\nina\\anaconda3\\lib\\site-packages (from requests->transformers[torch]) (2023.7.22)\n",
      "Requirement already satisfied: MarkupSafe>=2.0 in c:\\users\\nina\\anaconda3\\lib\\site-packages (from jinja2->torch!=1.12.0,>=1.9->transformers[torch]) (2.1.1)\n",
      "Requirement already satisfied: mpmath>=0.19 in c:\\users\\nina\\anaconda3\\lib\\site-packages (from sympy->torch!=1.12.0,>=1.9->transformers[torch]) (1.3.0)\n",
      "Downloading accelerate-0.29.3-py3-none-any.whl (297 kB)\n",
      "   ---------------------------------------- 0.0/297.6 kB ? eta -:--:--\n",
      "   ---------------------------------------- 0.0/297.6 kB ? eta -:--:--\n",
      "   - -------------------------------------- 10.2/297.6 kB ? eta -:--:--\n",
      "   ---- ---------------------------------- 30.7/297.6 kB 262.6 kB/s eta 0:00:02\n",
      "   ----- --------------------------------- 41.0/297.6 kB 245.8 kB/s eta 0:00:02\n",
      "   --------- ----------------------------- 71.7/297.6 kB 357.2 kB/s eta 0:00:01\n",
      "   ------------ -------------------------- 92.2/297.6 kB 403.5 kB/s eta 0:00:01\n",
      "   -------------- ----------------------- 112.6/297.6 kB 435.7 kB/s eta 0:00:01\n",
      "   ------------------- ------------------ 153.6/297.6 kB 458.0 kB/s eta 0:00:01\n",
      "   ---------------------- --------------- 174.1/297.6 kB 476.3 kB/s eta 0:00:01\n",
      "   ------------------------ ------------- 194.6/297.6 kB 454.0 kB/s eta 0:00:01\n",
      "   ---------------------------- --------- 225.3/297.6 kB 474.7 kB/s eta 0:00:01\n",
      "   ----------------------------------- -- 276.5/297.6 kB 548.9 kB/s eta 0:00:01\n",
      "   -------------------------------------- 297.6/297.6 kB 541.1 kB/s eta 0:00:00\n",
      "Installing collected packages: accelerate\n",
      "Successfully installed accelerate-0.29.3\n"
     ]
    }
   ],
   "source": [
    "pip install transformers[torch]"
   ]
  },
  {
   "cell_type": "code",
   "execution_count": 11,
   "id": "57dfb960-dd32-489c-8425-667d73e2dd7a",
   "metadata": {
    "tags": []
   },
   "outputs": [
    {
     "name": "stdout",
     "output_type": "stream",
     "text": [
      "Note: you may need to restart the kernel to use updated packages.Requirement already satisfied: transformers in c:\\users\\nina\\anaconda3\\lib\\site-packages (4.32.1)\n",
      "Requirement already satisfied: torch in c:\\users\\nina\\anaconda3\\lib\\site-packages (2.1.2)\n",
      "Requirement already satisfied: pandas in c:\\users\\nina\\anaconda3\\lib\\site-packages (2.0.3)\n",
      "Requirement already satisfied: datasets in c:\\users\\nina\\anaconda3\\lib\\site-packages (2.12.0)\n",
      "Requirement already satisfied: filelock in c:\\users\\nina\\anaconda3\\lib\\site-packages (from transformers) (3.9.0)\n",
      "Requirement already satisfied: huggingface-hub<1.0,>=0.15.1 in c:\\users\\nina\\anaconda3\\lib\\site-packages (from transformers) (0.15.1)\n",
      "Requirement already satisfied: numpy>=1.17 in c:\\users\\nina\\anaconda3\\lib\\site-packages (from transformers) (1.24.3)\n",
      "Requirement already satisfied: packaging>=20.0 in c:\\users\\nina\\anaconda3\\lib\\site-packages (from transformers) (23.1)\n",
      "Requirement already satisfied: pyyaml>=5.1 in c:\\users\\nina\\anaconda3\\lib\\site-packages (from transformers) (6.0)\n",
      "Requirement already satisfied: regex!=2019.12.17 in c:\\users\\nina\\anaconda3\\lib\\site-packages (from transformers) (2022.7.9)\n",
      "Requirement already satisfied: requests in c:\\users\\nina\\anaconda3\\lib\\site-packages (from transformers) (2.31.0)\n",
      "Requirement already satisfied: tokenizers!=0.11.3,<0.14,>=0.11.1 in c:\\users\\nina\\anaconda3\\lib\\site-packages (from transformers) (0.13.2)\n",
      "Requirement already satisfied: safetensors>=0.3.1 in c:\\users\\nina\\anaconda3\\lib\\site-packages (from transformers) (0.3.2)\n",
      "Requirement already satisfied: tqdm>=4.27 in c:\\users\\nina\\anaconda3\\lib\\site-packages (from transformers) (4.65.0)\n",
      "Requirement already satisfied: typing-extensions in c:\\users\\nina\\anaconda3\\lib\\site-packages (from torch) (4.7.1)\n",
      "Requirement already satisfied: sympy in c:\\users\\nina\\anaconda3\\lib\\site-packages (from torch) (1.11.1)\n",
      "Requirement already satisfied: networkx in c:\\users\\nina\\anaconda3\\lib\\site-packages (from torch) (3.1)\n",
      "Requirement already satisfied: jinja2 in c:\\users\\nina\\anaconda3\\lib\\site-packages (from torch) (3.1.2)\n",
      "Requirement already satisfied: fsspec in c:\\users\\nina\\anaconda3\\lib\\site-packages (from torch) (2023.4.0)\n",
      "Requirement already satisfied: python-dateutil>=2.8.2 in c:\\users\\nina\\anaconda3\\lib\\site-packages (from pandas) (2.8.2)\n",
      "Requirement already satisfied: pytz>=2020.1 in c:\\users\\nina\\anaconda3\\lib\\site-packages (from pandas) (2023.3.post1)\n",
      "Requirement already satisfied: tzdata>=2022.1 in c:\\users\\nina\\anaconda3\\lib\\site-packages (from pandas) (2023.3)\n",
      "Requirement already satisfied: pyarrow>=8.0.0 in c:\\users\\nina\\anaconda3\\lib\\site-packages (from datasets) (11.0.0)\n",
      "Requirement already satisfied: dill<0.3.7,>=0.3.0 in c:\\users\\nina\\anaconda3\\lib\\site-packages (from datasets) (0.3.6)\n",
      "Requirement already satisfied: xxhash in c:\\users\\nina\\anaconda3\\lib\\site-packages (from datasets) (2.0.2)\n",
      "Requirement already satisfied: multiprocess in c:\\users\\nina\\anaconda3\\lib\\site-packages (from datasets) (0.70.14)\n",
      "Requirement already satisfied: aiohttp in c:\\users\\nina\\anaconda3\\lib\\site-packages (from datasets) (3.8.5)\n",
      "Requirement already satisfied: responses<0.19 in c:\\users\\nina\\anaconda3\\lib\\site-packages (from datasets) (0.13.3)\n",
      "Requirement already satisfied: attrs>=17.3.0 in c:\\users\\nina\\anaconda3\\lib\\site-packages (from aiohttp->datasets) (22.1.0)\n",
      "Requirement already satisfied: charset-normalizer<4.0,>=2.0 in c:\\users\\nina\\anaconda3\\lib\\site-packages (from aiohttp->datasets) (2.0.4)\n",
      "Requirement already satisfied: multidict<7.0,>=4.5 in c:\\users\\nina\\anaconda3\\lib\\site-packages (from aiohttp->datasets) (6.0.2)\n",
      "Requirement already satisfied: async-timeout<5.0,>=4.0.0a3 in c:\\users\\nina\\anaconda3\\lib\\site-packages (from aiohttp->datasets) (4.0.2)\n",
      "Requirement already satisfied: yarl<2.0,>=1.0 in c:\\users\\nina\\anaconda3\\lib\\site-packages (from aiohttp->datasets) (1.8.1)\n",
      "Requirement already satisfied: frozenlist>=1.1.1 in c:\\users\\nina\\anaconda3\\lib\\site-packages (from aiohttp->datasets) (1.3.3)\n",
      "Requirement already satisfied: aiosignal>=1.1.2 in c:\\users\\nina\\anaconda3\\lib\\site-packages (from aiohttp->datasets) (1.2.0)\n",
      "Requirement already satisfied: six>=1.5 in c:\\users\\nina\\anaconda3\\lib\\site-packages (from python-dateutil>=2.8.2->pandas) (1.16.0)\n",
      "Requirement already satisfied: idna<4,>=2.5 in c:\\users\\nina\\anaconda3\\lib\\site-packages (from requests->transformers) (3.4)\n",
      "Requirement already satisfied: urllib3<3,>=1.21.1 in c:\\users\\nina\\anaconda3\\lib\\site-packages (from requests->transformers) (1.26.16)\n",
      "Requirement already satisfied: certifi>=2017.4.17 in c:\\users\\nina\\anaconda3\\lib\\site-packages (from requests->transformers) (2023.7.22)\n",
      "Requirement already satisfied: colorama in c:\\users\\nina\\anaconda3\\lib\\site-packages (from tqdm>=4.27->transformers) (0.4.6)\n",
      "Requirement already satisfied: MarkupSafe>=2.0 in c:\\users\\nina\\anaconda3\\lib\\site-packages (from jinja2->torch) (2.1.1)\n",
      "Requirement already satisfied: mpmath>=0.19 in c:\\users\\nina\\anaconda3\\lib\\site-packages (from sympy->torch) (1.3.0)\n",
      "\n"
     ]
    }
   ],
   "source": [
    "pip install transformers torch pandas datasets\n"
   ]
  },
  {
   "cell_type": "code",
   "execution_count": 75,
   "id": "7e6fd056-c794-4143-86f7-952a995fd710",
   "metadata": {
    "tags": []
   },
   "outputs": [],
   "source": [
    "import pandas as pd\n",
    "from sklearn.model_selection import train_test_split\n",
    "from transformers import BertTokenizer, BertForQuestionAnswering, Trainer, TrainingArguments\n",
    "import torch\n",
    "from torch.utils.data import Dataset\n",
    "\n",
    "data = {\n",
    "    \"context\": [\n",
    "               # \"Helicobacter pylori infection is strongly associated with gastric cancer and peptic ulcer disease.\",\n",
    "               # \"The standard treatment for H. pylori involves a combination of antibiotics such as amoxicillin and clarithromycin.\",\n",
    "               # \"H. pylori is a Gram-negative, microaerophilic bacterium found in the stomach.\",\n",
    "               # \"Over half of the world's population harbors H. pylori in their upper gastrointestinal tract.\",\n",
    "              #  \"Infection with H. pylori is usually asymptomatic, but it can cause gastric problems and is a risk factor for stomach cancer.\",\n",
    "              #  \"The urease test is a diagnostic tool for detecting H. pylori infection based on the bacterium's ability to hydrolyze urea.\",\n",
    "               # \"H. pylori's ability to produce urease is a key factor in its survival in the acidic environment of the stomach.\",\n",
    "                \"Triple therapy for H. pylori infection includes a proton pump inhibitor and two antibiotics for 14 days.\",\n",
    "                #\"The breath test for H. pylori involves drinking a liquid containing urea, which the bacteria can break down if present.\",\n",
    "                \"H. pylori was first identified in 1982 by Barry Marshall and Robin Warren, who later won the Nobel Prize for this discovery.\"],\n",
    "    \"question\": [ \n",
    "                #\"What diseases are associated with Helicobacter pylori?\",\n",
    "                # \"What antibiotics are used to treat H. pylori?\",\n",
    "               # \"What type of bacterium is H. pylori?\",\n",
    "                # \"How common is H. pylori infection worldwide?\",\n",
    "                # \"What are the possible consequences of an H. pylori infection?\",\n",
    "                 #\"What does the urease test diagnose?\",\n",
    "                 #\"Why is urease important for H. pylori?\",\n",
    "                 \"What does triple therapy for H. pylori involve?\",\n",
    "                # \"How does the breath test for H. pylori work?\",\n",
    "                # \"Who discovered H. pylori and what was the recognition for this work?\"],\n",
    "    \"answer\": [#\"Gastric cancer and peptic ulcer disease\",\n",
    "              # \"Amoxicillin and clarithromycin\",\n",
    "              # \"A Gram-negative, microaerophilic bacterium\",\n",
    "            #  \"Over half of the world's population\",\n",
    "            #   \"Gastric problems and stomach cancer\",\n",
    "              # \"H. pylori infection\",\n",
    "               #\"Helps survival in acidic stomach conditions\",\n",
    "               \"A proton pump inhibitor and two antibiotics for 14 days\",\n",
    "              # \"Drinking a liquid with urea, which H. pylori breaks down if present\",\n",
    "               \"Barry Marshall and Robin Warren, Nobel Prize\"]\n",
    "}\n",
    "\n",
    "df = pd.DataFrame(data)\n",
    "train_df, val_df = train_test_split(df, test_size=0.2, random_state=42, shuffle=True)\n",
    "\n",
    "class QADataset(Dataset):\n",
    "    def __init__(self, dataframe, tokenizer):\n",
    "        self.len = len(dataframe)\n",
    "        self.data = dataframe\n",
    "        self.tokenizer = tokenizer\n",
    "\n",
    "    def __getitem__(self, index):\n",
    "        question = self.data.iloc[index]['question']\n",
    "        context = self.data.iloc[index]['context']\n",
    "        answer_text = self.data.iloc[index]['answer']\n",
    "\n",
    "        # Encode the inputs\n",
    "        inputs = self.tokenizer.encode_plus(question, context, add_special_tokens=True, return_tensors=\"pt\", max_length=512, truncation=True, padding=\"max_length\")\n",
    "        input_ids = inputs[\"input_ids\"].squeeze()\n",
    "\n",
    "        # Find the position of the answer in the context\n",
    "        answer_start_index = context.find(answer_text)\n",
    "        answer_end_index = answer_start_index + len(answer_text)\n",
    "\n",
    "        # Locate the positions of the start and end of the answer in the tokens\n",
    "        answer_start_token = self.tokenizer.encode(context[:answer_start_index], add_special_tokens=False, return_tensors=\"pt\").size(1)\n",
    "        answer_end_token = answer_start_token + self.tokenizer.encode(answer_text, add_special_tokens=False, return_tensors=\"pt\").size(1) - 1\n",
    "\n",
    "        return {\n",
    "            \"input_ids\": input_ids,\n",
    "            \"attention_mask\": inputs[\"attention_mask\"].squeeze(),\n",
    "            \"start_positions\": torch.tensor(answer_start_token),\n",
    "            \"end_positions\": torch.tensor(answer_end_token)\n",
    "        }\n",
    "\n",
    "    def __len__(self):\n",
    "        return self.len\n"
   ]
  },
  {
   "cell_type": "code",
   "execution_count": 76,
   "id": "93be23f8-fce7-41f6-b77a-e64b54752308",
   "metadata": {
    "tags": []
   },
   "outputs": [
    {
     "data": {
      "text/html": [
       "<div>\n",
       "<style scoped>\n",
       "    .dataframe tbody tr th:only-of-type {\n",
       "        vertical-align: middle;\n",
       "    }\n",
       "\n",
       "    .dataframe tbody tr th {\n",
       "        vertical-align: top;\n",
       "    }\n",
       "\n",
       "    .dataframe thead th {\n",
       "        text-align: right;\n",
       "    }\n",
       "</style>\n",
       "<table border=\"1\" class=\"dataframe\">\n",
       "  <thead>\n",
       "    <tr style=\"text-align: right;\">\n",
       "      <th></th>\n",
       "      <th>context</th>\n",
       "      <th>question</th>\n",
       "      <th>answer</th>\n",
       "    </tr>\n",
       "  </thead>\n",
       "  <tbody>\n",
       "    <tr>\n",
       "      <th>1</th>\n",
       "      <td>H. pylori was first identified in 1982 by Barr...</td>\n",
       "      <td>Who discovered H. pylori and what was the reco...</td>\n",
       "      <td>Barry Marshall and Robin Warren, Nobel Prize</td>\n",
       "    </tr>\n",
       "  </tbody>\n",
       "</table>\n",
       "</div>"
      ],
      "text/plain": [
       "                                             context  \\\n",
       "1  H. pylori was first identified in 1982 by Barr...   \n",
       "\n",
       "                                            question  \\\n",
       "1  Who discovered H. pylori and what was the reco...   \n",
       "\n",
       "                                         answer  \n",
       "1  Barry Marshall and Robin Warren, Nobel Prize  "
      ]
     },
     "execution_count": 76,
     "metadata": {},
     "output_type": "execute_result"
    }
   ],
   "source": [
    "val_df"
   ]
  },
  {
   "cell_type": "code",
   "execution_count": 77,
   "id": "a131dca7-ed3f-4487-8822-65ed5be822f1",
   "metadata": {
    "tags": []
   },
   "outputs": [
    {
     "name": "stderr",
     "output_type": "stream",
     "text": [
      "Some weights of BertForQuestionAnswering were not initialized from the model checkpoint at bert-base-uncased and are newly initialized: ['qa_outputs.weight', 'qa_outputs.bias']\n",
      "You should probably TRAIN this model on a down-stream task to be able to use it for predictions and inference.\n"
     ]
    }
   ],
   "source": [
    "tokenizer = BertTokenizer.from_pretrained('bert-base-uncased')\n",
    "model = BertForQuestionAnswering.from_pretrained('bert-base-uncased')\n",
    "\n",
    "train_dataset = QADataset(train_df, tokenizer)\n",
    "val_dataset = QADataset(val_df, tokenizer)\n"
   ]
  },
  {
   "cell_type": "code",
   "execution_count": 78,
   "id": "4eb07646-789e-4f67-8096-549855b8a11a",
   "metadata": {
    "tags": []
   },
   "outputs": [
    {
     "name": "stderr",
     "output_type": "stream",
     "text": [
      "C:\\Users\\Nina\\anaconda3\\Lib\\site-packages\\accelerate\\accelerator.py:436: FutureWarning: Passing the following arguments to `Accelerator` is deprecated and will be removed in version 1.0 of Accelerate: dict_keys(['dispatch_batches']). Please pass an `accelerate.DataLoaderConfiguration` instead: \n",
      "dataloader_config = DataLoaderConfiguration(dispatch_batches=None)\n",
      "  warnings.warn(\n"
     ]
    },
    {
     "data": {
      "text/html": [
       "\n",
       "    <div>\n",
       "      \n",
       "      <progress value='3' max='3' style='width:300px; height:20px; vertical-align: middle;'></progress>\n",
       "      [3/3 00:05, Epoch 3/3]\n",
       "    </div>\n",
       "    <table border=\"1\" class=\"dataframe\">\n",
       "  <thead>\n",
       " <tr style=\"text-align: left;\">\n",
       "      <th>Step</th>\n",
       "      <th>Training Loss</th>\n",
       "      <th>Validation Loss</th>\n",
       "    </tr>\n",
       "  </thead>\n",
       "  <tbody>\n",
       "  </tbody>\n",
       "</table><p>"
      ],
      "text/plain": [
       "<IPython.core.display.HTML object>"
      ]
     },
     "metadata": {},
     "output_type": "display_data"
    },
    {
     "data": {
      "text/html": [
       "\n",
       "    <div>\n",
       "      \n",
       "      <progress value='1' max='1' style='width:300px; height:20px; vertical-align: middle;'></progress>\n",
       "      [1/1 : < :]\n",
       "    </div>\n",
       "    "
      ],
      "text/plain": [
       "<IPython.core.display.HTML object>"
      ]
     },
     "metadata": {},
     "output_type": "display_data"
    },
    {
     "name": "stdout",
     "output_type": "stream",
     "text": [
      "{'eval_loss': 5.970719337463379, 'eval_start_accuracy': 0.0, 'eval_end_accuracy': 1.0, 'eval_runtime': 1.0322, 'eval_samples_per_second': 0.969, 'eval_steps_per_second': 0.969, 'epoch': 3.0}\n"
     ]
    }
   ],
   "source": [
    "from sklearn.metrics import accuracy_score\n",
    "\n",
    "def compute_metrics(p):\n",
    "    # Извлечение истинных значений\n",
    "    true_starts, true_ends = p.label_ids\n",
    "\n",
    "    # Извлечение предсказаний\n",
    "    predictions = p.predictions\n",
    "    pred_starts = predictions[0].argmax(-1)\n",
    "    pred_ends = predictions[1].argmax(-1)\n",
    "\n",
    "    # Вычисление точности для начальной и конечной позиций\n",
    "    start_accuracy = accuracy_score(true_starts, pred_starts)\n",
    "    end_accuracy = accuracy_score(true_ends, pred_ends)\n",
    "\n",
    "    return {\n",
    "        'start_accuracy': start_accuracy,\n",
    "        'end_accuracy': end_accuracy\n",
    "    }\n",
    "\n",
    "\n",
    "training_args = TrainingArguments(\n",
    "    output_dir='./result',\n",
    "    num_train_epochs=3,\n",
    "    per_device_train_batch_size=2,\n",
    "    per_device_eval_batch_size=2,\n",
    "    warmup_steps=500,\n",
    "    weight_decay=0.01,\n",
    "    logging_dir='./logs',\n",
    "    logging_steps=10,\n",
    "    evaluation_strategy=\"steps\",\n",
    "    eval_steps=50,\n",
    "    save_steps=500,\n",
    "    save_total_limit=2\n",
    ")\n",
    "\n",
    "trainer = Trainer(\n",
    "    model=model,\n",
    "    args=training_args,\n",
    "    train_dataset=train_dataset,\n",
    "    eval_dataset=val_dataset,\n",
    "    compute_metrics=compute_metrics\n",
    ")\n",
    "\n",
    "trainer.train()\n",
    "\n",
    "eval_results = trainer.evaluate()\n",
    "print(eval_results)\n"
   ]
  },
  {
   "cell_type": "code",
   "execution_count": 79,
   "id": "abac2636-c797-45ff-9960-082b8dca3d2c",
   "metadata": {
    "tags": []
   },
   "outputs": [
    {
     "name": "stdout",
     "output_type": "stream",
     "text": [
      "Question: Who discovered H. pylori and what was the recognition for this work?\n",
      "Context: H. pylori was first identified in 1982 by Barry Marshall and Robin Warren, who later won the Nobel Prize for this discovery.\n",
      "Answer: 1982 by Barry Marshall and Robin Warren,\n",
      "Score: 0.003282047575339675\n",
      "Start position: 34\n",
      "End position: 74\n"
     ]
    }
   ],
   "source": [
    "from transformers import pipeline\n",
    "\n",
    "# Создаем пайплайн для ответов на вопросы с использованием модели и токенизатора\n",
    "qa_pipeline = pipeline(\n",
    "    \"question-answering\",\n",
    "    model=model,\n",
    "    tokenizer=tokenizer\n",
    ")\n",
    "\n",
    "# Пример вопроса и контекста из валидационного набора данных\n",
    "#example = val_df.iloc[1]\n",
    "for idx, example in val_df.iterrows():\n",
    "    context = example['context']\n",
    "    question = example['question']\n",
    "    \n",
    "\n",
    "# Выполнение предсказания\n",
    "    result = qa_pipeline({\n",
    "    'question': question,\n",
    "    'context': context\n",
    "    })\n",
    "\n",
    "    print(f\"Question: {question}\")\n",
    "    print(f\"Context: {context}\")\n",
    "    print(f\"Answer: {result['answer']}\")\n",
    "    print(f\"Score: {result['score']}\")\n",
    "    print(f\"Start position: {result['start']}\")\n",
    "    print(f\"End position: {result['end']}\")\n"
   ]
  },
  {
   "cell_type": "code",
   "execution_count": null,
   "id": "f026375a-5fee-459c-9060-6dd531637f1a",
   "metadata": {},
   "outputs": [],
   "source": []
  }
 ],
 "metadata": {
  "kernelspec": {
   "display_name": "Python 3 (ipykernel)",
   "language": "python",
   "name": "python3"
  },
  "language_info": {
   "codemirror_mode": {
    "name": "ipython",
    "version": 3
   },
   "file_extension": ".py",
   "mimetype": "text/x-python",
   "name": "python",
   "nbconvert_exporter": "python",
   "pygments_lexer": "ipython3",
   "version": "3.11.5"
  }
 },
 "nbformat": 4,
 "nbformat_minor": 5
}
